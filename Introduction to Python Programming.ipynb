{
 "cells": [
  {
   "cell_type": "markdown",
   "metadata": {},
   "source": [
    "# Introduction to Basic Python"
   ]
  },
  {
   "cell_type": "code",
   "execution_count": null,
   "metadata": {},
   "outputs": [],
   "source": [
    "#Importing libraries\n",
    "\n",
    "#install pip in conda\n",
    "#!conda install pip\n",
    "import pandas as pd, numpy as np"
   ]
  },
  {
   "cell_type": "markdown",
   "metadata": {},
   "source": [
    "## 1. Indentation\n",
    "Python uses indentation for if-else statement, looping statement, so forth.\n",
    "Other programming languages usually use bracket"
   ]
  },
  {
   "cell_type": "code",
   "execution_count": null,
   "metadata": {},
   "outputs": [],
   "source": [
    "#assign a number into variable\n",
    "test = 80\n",
    "\n",
    "#check the score\n",
    "if test < 70:\n",
    "    print('This student did not pass the course')\n",
    "elif test > 70 :\n",
    "    print('This student passed the course')"
   ]
  },
  {
   "cell_type": "markdown",
   "metadata": {},
   "source": [
    "# 2. Variables and types\n",
    "On Python, we do not need to declare variables, just directly assign the data into a variable"
   ]
  },
  {
   "cell_type": "code",
   "execution_count": null,
   "metadata": {},
   "outputs": [],
   "source": [
    "#define an integer\n",
    "weight = 65\n",
    "print(weight)\n",
    "\n",
    "#define a string - can use '' or \"\", it does not matter\n",
    "staff_name = 'Christina'\n",
    "print(staff_name)\n",
    "\n",
    "#define a float\n",
    "exam_score = 87.50\n",
    "print(exam_score)"
   ]
  },
  {
   "cell_type": "code",
   "execution_count": null,
   "metadata": {},
   "outputs": [],
   "source": [
    "#define several variables simultaneously\n",
    "seller, buyer = 'Adi', 'Agil'\n",
    "print('%s has bought a bag from %s' % (buyer, seller))"
   ]
  },
  {
   "cell_type": "markdown",
   "metadata": {},
   "source": [
    "## Exercise"
   ]
  },
  {
   "cell_type": "code",
   "execution_count": null,
   "metadata": {},
   "outputs": [],
   "source": [
    "#define several variables\n",
    "customer = 'Callum'\n",
    "height = 178.394509\n",
    "age = 39\n",
    "\n",
    "#print the customer name, height and age in one line, \n",
    "#give 2 numbers after full stop on height variable\n",
    "#format print: customer name is henny, height: 178.05 cm and age: 39\n",
    "\n",
    "\n"
   ]
  },
  {
   "cell_type": "markdown",
   "metadata": {},
   "source": [
    "# 3. Lists\n",
    "Python has many types of storing data. One of the popular ways to saving it is list"
   ]
  },
  {
   "cell_type": "code",
   "execution_count": null,
   "metadata": {},
   "outputs": [],
   "source": [
    "#create a list for 5 employees (same data type)\n",
    "employees = ['Abigail', 'Bianca', 'Charlie', \n",
    "            'Dorothy', 'Erica']\n",
    "\n",
    "print(employees[0])\n",
    "print(len(employees))"
   ]
  },
  {
   "cell_type": "code",
   "execution_count": null,
   "metadata": {},
   "outputs": [],
   "source": [
    "#add data into the existing list\n",
    "employees.append('Mikhail')\n",
    "print(employees)"
   ]
  },
  {
   "cell_type": "code",
   "execution_count": null,
   "metadata": {},
   "outputs": [],
   "source": [
    "#create a matrix, one array can be stored multiple data type\n",
    "matrix = [['Abigail', 100059540, 30],\n",
    "         ['Bianca', 12036564, 40],\n",
    "         ['Charlie', 93465650, 45],\n",
    "         ['Dorothy', 376170, 50],\n",
    "         ['Erica', 7657120, 35]]\n",
    "\n",
    "print(matrix[1])\n",
    "print(matrix[2][2])\n",
    "print(len(matrix))"
   ]
  },
  {
   "cell_type": "markdown",
   "metadata": {},
   "source": [
    "## Exercise"
   ]
  },
  {
   "cell_type": "code",
   "execution_count": null,
   "metadata": {},
   "outputs": [],
   "source": [
    "#create a list of 6 customers\n",
    "\n",
    "\n",
    "#print Andry from customer array \n",
    "\n",
    "\n",
    "#print Donny from customer array\n",
    "\n"
   ]
  },
  {
   "cell_type": "code",
   "execution_count": null,
   "metadata": {},
   "outputs": [],
   "source": [
    "#create a matrix, one array can be stored multiple data type\n",
    "#this matrix consist of customer name, salary and age\n",
    "matrix = [['Brian', 100059540, 20],\n",
    "         ['Dian', 12036564, 28],\n",
    "         ['Kristin', 93465650, 25],\n",
    "         ['Donny', 376170, 30],\n",
    "         ['Andry', 7657120, 23],\n",
    "         ['Stella', 3452343, 29]]\n",
    "\n",
    "#print Andry's detail\n",
    "\n",
    "\n",
    "#print Stella's age\n",
    "\n"
   ]
  },
  {
   "cell_type": "markdown",
   "metadata": {},
   "source": [
    "# 4. Conditions\n",
    "Python employs boolean variables to evaluate the given conditions."
   ]
  },
  {
   "cell_type": "code",
   "execution_count": null,
   "metadata": {},
   "outputs": [],
   "source": [
    "shoes = 250000\n",
    "if shoes < 500000 and shoes > 100000:\n",
    "    print('Shoes price is between 100.000 and 500.000')"
   ]
  },
  {
   "cell_type": "markdown",
   "metadata": {},
   "source": [
    "## Exercise"
   ]
  },
  {
   "cell_type": "code",
   "execution_count": null,
   "metadata": {},
   "outputs": [],
   "source": [
    "#create a program that groups a student into type of education level with these rules\n",
    "#elementary: age from 6 - 12\n",
    "#junior_hs: age from 12 - 15\n",
    "#high_school: age from 15 - 18\n",
    "#university: age from 18 - 22\n",
    "\n",
    "Ano = 19\n",
    "\n",
    "#put your code here\n",
    "\n",
    "\n"
   ]
  },
  {
   "cell_type": "markdown",
   "metadata": {},
   "source": [
    "# 5. Looping\n",
    "Python has function to loop iterate over a given sequence with 'for' and 'while'"
   ]
  },
  {
   "cell_type": "code",
   "execution_count": null,
   "metadata": {},
   "outputs": [],
   "source": [
    "#create a list with 5 staffs\n",
    "staffs = ['Adi', 'Agil', 'Henny', 'Ano', 'Hengky']\n",
    "\n",
    "#print all the staff\n",
    "for index, staff in enumerate(staffs):\n",
    "    print('Staff %d : %s' % (index+1, staff))"
   ]
  },
  {
   "cell_type": "markdown",
   "metadata": {},
   "source": [
    "## Exercise"
   ]
  },
  {
   "cell_type": "code",
   "execution_count": null,
   "metadata": {},
   "outputs": [],
   "source": [
    "#add one variable\n",
    "debts = [5430340.405, 30345.034, 93445.344, 245454.453, 842555.533]\n",
    "\n",
    "#print the staff name from staffs variable and with their debts (with 2 numbers after full stop)\n",
    "#example staff 1 : Adi has debt 5430340.40\n",
    "\n",
    "\n"
   ]
  },
  {
   "cell_type": "markdown",
   "metadata": {},
   "source": [
    "# 6. Function\n",
    "Instead of write the same code many times.\n",
    "Code is used several times, can be created into function."
   ]
  },
  {
   "cell_type": "code",
   "execution_count": null,
   "metadata": {},
   "outputs": [],
   "source": [
    "#define a function that calculates total salary\n",
    "def print_total_salary(employee_number, salary):\n",
    "    total = employee_number * salary\n",
    "    print(total)\n",
    "\n",
    "print_total_salary(10, 4000000)"
   ]
  },
  {
   "cell_type": "code",
   "execution_count": null,
   "metadata": {},
   "outputs": [],
   "source": [
    "#define a function that calculates total salary\n",
    "def calculate_total_salary(employee_number, salary):\n",
    "    total = employee_number * salary\n",
    "    return total\n",
    "\n",
    "#with return, we can store the result into a variable\n",
    "#therefore, we can recall it \n",
    "total_salary = calculate_total_salary(10, 4000000)\n",
    "total_expense = total_salary + (0.2 * total_salary)\n",
    "print(total_expense)"
   ]
  },
  {
   "cell_type": "markdown",
   "metadata": {},
   "source": [
    "## Exercise"
   ]
  },
  {
   "cell_type": "code",
   "execution_count": null,
   "metadata": {},
   "outputs": [],
   "source": [
    "#create a function that calculate total price\n",
    "#food = 60000, drink = 20000, ppn = 10%, service charge = 5%\n",
    "#store the result into a variable\n",
    "#print the result\n",
    "\n",
    "\n",
    "\n"
   ]
  },
  {
   "cell_type": "markdown",
   "metadata": {},
   "source": [
    "# 7. Pandas"
   ]
  },
  {
   "cell_type": "code",
   "execution_count": null,
   "metadata": {},
   "outputs": [],
   "source": [
    "#import the library\n",
    "import pandas as pd\n",
    "\n",
    "'''\n",
    "The previous matrix\n",
    "matrix = [['Brian', 100059540, 20],\n",
    "         ['Dian', 12036564, 10],\n",
    "         ['Kristin', 93465650, 15],\n",
    "         ['Donny', 376170, 10],\n",
    "         ['Andry', 7657120, 25],\n",
    "         ['Stella', 3452343, 34]]\n",
    "'''\n",
    "\n",
    "#create dataframe from array with the labels\n",
    "df = pd.DataFrame.from_records(matrix, columns=['staff', 'debt', 'age'])\n",
    "df"
   ]
  },
  {
   "cell_type": "code",
   "execution_count": null,
   "metadata": {},
   "outputs": [],
   "source": [
    "#print one of the column - series \n",
    "df['staff']"
   ]
  },
  {
   "cell_type": "code",
   "execution_count": null,
   "metadata": {},
   "outputs": [],
   "source": [
    "#print several columns - dataframe\n",
    "df[['staff', 'age']]"
   ]
  },
  {
   "cell_type": "code",
   "execution_count": null,
   "metadata": {},
   "outputs": [],
   "source": [
    "#add some variables\n",
    "cities = ['Jakarta', 'Bandung', 'Jakarta', 'Bali', 'Semarang', 'Jakarta']\n",
    "years = [2010, 2009, 1992, 2014, 2000, 2005]\n",
    "\n",
    "#add the variables into existing dataframe\n",
    "df['city'] = pd.Series(cities)\n",
    "df['year'] = pd.Series(years)\n",
    "\n",
    "df"
   ]
  },
  {
   "cell_type": "code",
   "execution_count": null,
   "metadata": {},
   "outputs": [],
   "source": [
    "#add new column by manipulating two existing columns\n",
    "df['age_year'] = df['age'] + df['year']"
   ]
  },
  {
   "cell_type": "code",
   "execution_count": null,
   "metadata": {},
   "outputs": [],
   "source": [
    "#delete the age_year column, inplace for delete permanently\n",
    "df.drop('age_year', axis = 1, inplace = True)"
   ]
  },
  {
   "cell_type": "code",
   "execution_count": null,
   "metadata": {},
   "outputs": [],
   "source": [
    "#delete the third row (Dorothy)\n",
    "df.drop(3, axis = 0, inplace = True)"
   ]
  },
  {
   "cell_type": "code",
   "execution_count": null,
   "metadata": {},
   "outputs": [],
   "source": [
    "#query data \n",
    "df.loc[(df['year'] >= 2009) & (df['year'] <= 2010)]"
   ]
  },
  {
   "cell_type": "code",
   "execution_count": null,
   "metadata": {},
   "outputs": [],
   "source": [
    "#group by\n",
    "df.groupby('city').mean()['age']"
   ]
  },
  {
   "cell_type": "code",
   "execution_count": null,
   "metadata": {},
   "outputs": [],
   "source": [
    "#find the unique values\n",
    "df['city'].unique()"
   ]
  },
  {
   "cell_type": "markdown",
   "metadata": {},
   "source": [
    "## Exercise"
   ]
  },
  {
   "cell_type": "code",
   "execution_count": null,
   "metadata": {},
   "outputs": [],
   "source": [
    "#add salaries variable into to the existing dataframe\n",
    "# the new column named salary\n",
    "\n",
    "salaries = [335434050, 345349534, 69565444, 50358545]\n",
    "\n",
    "\n"
   ]
  },
  {
   "cell_type": "code",
   "execution_count": null,
   "metadata": {},
   "outputs": [],
   "source": [
    "#create new column named total_salary \n",
    "#calculates total_salary by multiplying age * salary\n",
    "\n",
    "\n"
   ]
  },
  {
   "cell_type": "code",
   "execution_count": null,
   "metadata": {},
   "outputs": [],
   "source": [
    "#show only staff, age and total_salary for all staff\n",
    "\n",
    "\n"
   ]
  },
  {
   "cell_type": "code",
   "execution_count": null,
   "metadata": {},
   "outputs": [],
   "source": [
    "#select staff who is located in jakarta and year between 1990 and 2019\n",
    "\n",
    "\n"
   ]
  },
  {
   "cell_type": "code",
   "execution_count": null,
   "metadata": {},
   "outputs": [],
   "source": []
  }
 ],
 "metadata": {
  "kernelspec": {
   "display_name": "Python 3",
   "language": "python",
   "name": "python3"
  },
  "language_info": {
   "codemirror_mode": {
    "name": "ipython",
    "version": 3
   },
   "file_extension": ".py",
   "mimetype": "text/x-python",
   "name": "python",
   "nbconvert_exporter": "python",
   "pygments_lexer": "ipython3",
   "version": "3.7.2"
  }
 },
 "nbformat": 4,
 "nbformat_minor": 2
}
