{
 "cells": [
  {
   "cell_type": "markdown",
   "metadata": {},
   "source": [
    "# 1. Import Libraries"
   ]
  },
  {
   "cell_type": "code",
   "execution_count": null,
   "metadata": {},
   "outputs": [],
   "source": [
    "#install all needed libraries \n",
    "#!pip install -r requirements.txt\n",
    "\n",
    "#import all libraries\n",
    "import pandas as pd\n",
    "import numpy as np \n",
    "\n",
    "#Statistics Module \n",
    "from pylab import savefig\n",
    "\n",
    "#visualization\n",
    "import matplotlib.pyplot as plt \n",
    "import seaborn as sns \n",
    "\n",
    "%matplotlib inline"
   ]
  },
  {
   "cell_type": "markdown",
   "metadata": {},
   "source": [
    "# 2. Load Dataset"
   ]
  },
  {
   "cell_type": "code",
   "execution_count": null,
   "metadata": {},
   "outputs": [],
   "source": [
    "#load data from csv\n",
    "data = pd.read_csv('datasets/house_price.csv')"
   ]
  },
  {
   "cell_type": "code",
   "execution_count": null,
   "metadata": {},
   "outputs": [],
   "source": [
    "#Show top 5 rows by default\n",
    "data.head()"
   ]
  },
  {
   "cell_type": "code",
   "execution_count": null,
   "metadata": {},
   "outputs": [],
   "source": [
    "#print the dimension of data\n",
    "data.shape"
   ]
  },
  {
   "cell_type": "code",
   "execution_count": null,
   "metadata": {},
   "outputs": [],
   "source": [
    "#print information of data\n",
    "data.info()"
   ]
  },
  {
   "cell_type": "code",
   "execution_count": null,
   "metadata": {},
   "outputs": [],
   "source": [
    "#column names (features)\n",
    "list(data.columns)"
   ]
  },
  {
   "cell_type": "markdown",
   "metadata": {},
   "source": [
    "# 3. Descriptive analysis"
   ]
  },
  {
   "cell_type": "code",
   "execution_count": null,
   "metadata": {},
   "outputs": [],
   "source": [
    "#print descriptive data\n",
    "data.describe()"
   ]
  },
  {
   "cell_type": "markdown",
   "metadata": {},
   "source": [
    "# 4. Numerical and Categorical Feature"
   ]
  },
  {
   "cell_type": "code",
   "execution_count": null,
   "metadata": {},
   "outputs": [],
   "source": [
    "#separate numerical and categorical feature\n",
    "\n",
    "#numerical\n",
    "numerical = ['TotalSqFeet', 'TotBathroom', 'OverallQual', 'GarageCars', 'Age']\n",
    "\n",
    "#categorical\n",
    "#categorical = ['']"
   ]
  },
  {
   "cell_type": "markdown",
   "metadata": {},
   "source": [
    "# 5. Missing values"
   ]
  },
  {
   "cell_type": "code",
   "execution_count": null,
   "metadata": {},
   "outputs": [],
   "source": [
    "#count how many missing values per field\n",
    "count_missing = data[numerical].isnull().sum().sort_values(ascending = False)\n",
    "count_missing.head()"
   ]
  },
  {
   "cell_type": "code",
   "execution_count": null,
   "metadata": {},
   "outputs": [],
   "source": [
    "#count how much the percentage of missing value for each field\n",
    "percentage = round(data[numerical].isnull().sum()/len(data)*100,2).sort_values(ascending = False)\n",
    "percentage.head()"
   ]
  },
  {
   "cell_type": "markdown",
   "metadata": {},
   "source": [
    "## Exercise"
   ]
  },
  {
   "cell_type": "code",
   "execution_count": null,
   "metadata": {},
   "outputs": [],
   "source": [
    "#1. Merge two dataframes (count_missing and percentage) together to one dataframe\n",
    "#please put your code here\n",
    "\n",
    "\n"
   ]
  },
  {
   "cell_type": "markdown",
   "metadata": {},
   "source": [
    "# 6. Univariate Analysis"
   ]
  },
  {
   "cell_type": "code",
   "execution_count": null,
   "metadata": {},
   "outputs": [],
   "source": [
    "#distribution plot\n",
    "fig = sns.distplot(data['TotalSqFeet'], kde = True, color = 'darkblue', label = 'TotalSqFeet').set_title('Distribution Plot of Sq')"
   ]
  },
  {
   "cell_type": "code",
   "execution_count": null,
   "metadata": {},
   "outputs": [],
   "source": [
    "#box plot\n",
    "sns.boxplot(data = data, x = 'TotalSqFeet', color = 'cyan', orient = \"h\").set_title('Boxplot - TotalSqFeet')"
   ]
  },
  {
   "cell_type": "markdown",
   "metadata": {},
   "source": [
    "## Exercise"
   ]
  },
  {
   "cell_type": "code",
   "execution_count": null,
   "metadata": {},
   "outputs": [],
   "source": [
    "# Create distribution plot for GarageCars\n",
    "#please put your code here\n",
    "\n",
    "\n"
   ]
  },
  {
   "cell_type": "code",
   "execution_count": null,
   "metadata": {},
   "outputs": [],
   "source": [
    "# Create boxplot for TotBathroom\n",
    "#please put your code here\n",
    "\n"
   ]
  },
  {
   "cell_type": "markdown",
   "metadata": {},
   "source": [
    "## Univariate Analysis - one click to get all features"
   ]
  },
  {
   "cell_type": "code",
   "execution_count": null,
   "metadata": {},
   "outputs": [],
   "source": [
    "#create funtion to obtain the detail of each feature\n",
    "def univariate_analysis(data, features):\n",
    "\n",
    "    #looping through all feature\n",
    "    for index, feature in enumerate(features):\n",
    "        \n",
    "        #create space for two graphs\n",
    "        fig, ax = plt.subplots(nrows = 2, ncols = 1, figsize = (10,10))\n",
    "        \n",
    "        #Distribution plot\n",
    "        #set title\n",
    "        ax[0].set_title(\"%d. Distribution Plot - %s\" % (index+1, feature), fontsize = 16)\n",
    "        #create distribution plot\n",
    "        fig = sns.distplot(data[feature], kde = True, color = 'darkblue', label = feature, ax = ax[0])\n",
    "\n",
    "        #Boxplot\n",
    "        #set title\n",
    "        ax[1].set_title(\"%d. Box Plot - %s\" % (index+1, feature),fontsize = 16)\n",
    "        #create boxplot\n",
    "        fig = sns.boxplot(data = data, x = feature, color = 'cyan',orient = \"h\", ax = ax[1])\n",
    "\n",
    "        #store distribution plot and boxplot\n",
    "        plt.savefig('exploration\\\\%d. Univariate analysis of %s.png' % (index+1, feature))"
   ]
  },
  {
   "cell_type": "code",
   "execution_count": null,
   "metadata": {
    "scrolled": false
   },
   "outputs": [],
   "source": [
    "univariate_analysis(data, numerical)"
   ]
  },
  {
   "cell_type": "markdown",
   "metadata": {},
   "source": [
    "# 7. Bivariate Analysis"
   ]
  },
  {
   "cell_type": "code",
   "execution_count": null,
   "metadata": {},
   "outputs": [],
   "source": [
    "#create scatterplot for two variables, usually y is the target\n",
    "sns.scatterplot(x = 'Age', y = 'SalePrice', data = data)"
   ]
  },
  {
   "cell_type": "markdown",
   "metadata": {},
   "source": [
    "## Exercise"
   ]
  },
  {
   "cell_type": "code",
   "execution_count": null,
   "metadata": {},
   "outputs": [],
   "source": [
    "# Create scatterplot for TotBathroom and SalePrice\n",
    "#please put your code here\n",
    "\n"
   ]
  },
  {
   "cell_type": "markdown",
   "metadata": {},
   "source": [
    "## Bivariate Analysis - one click to get all features"
   ]
  },
  {
   "cell_type": "code",
   "execution_count": null,
   "metadata": {},
   "outputs": [],
   "source": [
    "#create funtion to investigate the relationship of each feature to the label\n",
    "def scatterplot(data, features, target):\n",
    "    \n",
    "    #loop though all features\n",
    "    for index, feature in enumerate(features):\n",
    "        \n",
    "        #create joint plot\n",
    "        sns.scatterplot(x = feature, y = target, data = data)\n",
    "        \n",
    "        #show the figure\n",
    "        plt.show()\n",
    "        \n",
    "         #store distribution plot and boxplot\n",
    "        plt.savefig('exploration\\\\%d. Bivariate analysis of %s and %s.png' % (index+1, feature, target))"
   ]
  },
  {
   "cell_type": "code",
   "execution_count": null,
   "metadata": {
    "scrolled": false
   },
   "outputs": [],
   "source": [
    "scatterplot(data, numerical, 'SalePrice')"
   ]
  },
  {
   "cell_type": "markdown",
   "metadata": {},
   "source": [
    "# 8. Correlation"
   ]
  },
  {
   "cell_type": "code",
   "execution_count": null,
   "metadata": {},
   "outputs": [],
   "source": [
    "#correlation with pearson method\n",
    "data.corr(method = 'pearson').style.background_gradient().set_precision(2)"
   ]
  },
  {
   "cell_type": "markdown",
   "metadata": {},
   "source": [
    "## Exercise"
   ]
  },
  {
   "cell_type": "code",
   "execution_count": null,
   "metadata": {},
   "outputs": [],
   "source": [
    "#correlation with spearman method\n",
    "#put your code here\n"
   ]
  },
  {
   "cell_type": "markdown",
   "metadata": {},
   "source": [
    "## Correlation with hitmap"
   ]
  },
  {
   "cell_type": "code",
   "execution_count": null,
   "metadata": {},
   "outputs": [],
   "source": [
    "#create correlation with hitmap\n",
    "\n",
    "#create correlation\n",
    "corr = data.corr(method = 'pearson')\n",
    "\n",
    "#convert correlation to numpy array\n",
    "mask = np.array(corr)\n",
    "\n",
    "#to mask the repetitive value for each pair\n",
    "mask[np.tril_indices_from(mask)] = False\n",
    "fig, ax = plt.subplots(figsize = (15,12))\n",
    "fig.set_size_inches(20,5)\n",
    "sns.heatmap(corr, mask = mask, vmax = 0.9, square = True, annot = True)"
   ]
  }
 ],
 "metadata": {
  "kernelspec": {
   "display_name": "Python 3",
   "language": "python",
   "name": "python3"
  },
  "language_info": {
   "codemirror_mode": {
    "name": "ipython",
    "version": 3
   },
   "file_extension": ".py",
   "mimetype": "text/x-python",
   "name": "python",
   "nbconvert_exporter": "python",
   "pygments_lexer": "ipython3",
   "version": "3.7.2"
  }
 },
 "nbformat": 4,
 "nbformat_minor": 2
}
